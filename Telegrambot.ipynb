{
  "nbformat": 4,
  "nbformat_minor": 0,
  "metadata": {
    "colab": {
      "name": "Untitled7.ipynb",
      "provenance": [],
      "authorship_tag": "ABX9TyO54jalMkGKwFV30AIh/ZQB",
      "include_colab_link": true
    },
    "kernelspec": {
      "name": "python3",
      "display_name": "Python 3"
    },
    "language_info": {
      "name": "python"
    }
  },
  "cells": [
    {
      "cell_type": "markdown",
      "metadata": {
        "id": "view-in-github",
        "colab_type": "text"
      },
      "source": [
        "<a href=\"https://colab.research.google.com/github/Abhishekci/Web-Scraping/blob/main/Telegrambot.ipynb\" target=\"_parent\"><img src=\"https://colab.research.google.com/assets/colab-badge.svg\" alt=\"Open In Colab\"/></a>"
      ]
    },
    {
      "cell_type": "code",
      "source": [
        "from telegram.ext.updater import Updater\n",
        "from telegram.update import Update\n",
        "from telegram.ext.callbackcontext import CallbackContext\n",
        "from telegram.ext.commandhandler import CommandHandler\n",
        "from telegram.ext.messagehandler import MessageHandler\n",
        "from telegram.ext.filters import Filters\n",
        "\n",
        "\n",
        "#beaftifulsoup\n",
        "from bs4 import BeautifulSoup\n",
        "import requests\n",
        "from csv import writer\n",
        "url = 'https://www.linkedin.com/jobs/search/?keywords=data%20scientist&position=1&pageNum=0'\n",
        "page = requests.get(url)\n",
        "\n",
        "soup = BeautifulSoup(page.content, 'html.parser')\n",
        "lists = soup.find_all('div', class_=\"base-card\")\n",
        "\n",
        "header = ['title', 'company', 'location', 'urls']\n",
        "for list in lists:\n",
        "\ttitle = list.find('h3', class_=\"base-search-card__title\").text.replace('\\n','')\n",
        "\tcomp = list.find('a', class_=\"hidden-nested-link\").text.replace('\\n','')\n",
        "\tlocation = list.find('span', class_=\"job-search-card__location\").text.replace('\\n','')\n",
        "\turls = list.find('a', class_=\"base-card__full-link\").attrs['href']\n",
        "\tinfo = [title, comp, location, urls]\n",
        "\t#print(info)\n",
        "#\n",
        "#print(header)\n",
        "\n",
        "\n",
        "updater = Updater('5337718176:AAELMY-mXuoo_5UHz3NTnBpjtQZAyJmlXOE',\n",
        "\t\t\t\tuse_context=True)\n",
        "\n",
        "\n",
        "def start(update: Update, context: CallbackContext):\n",
        "\tupdate.message.reply_text(\n",
        "\t\t\"Hello sir, Welcome to the Bot.Please write\\\n",
        "\t\t/help to see the commands available.\")\n",
        "\n",
        "def help(update: Update, context: CallbackContext):\n",
        "\n",
        "\tupdate.message.reply_text(\"\"\"Available Commands :-\n",
        "\t/Naukri - To get the Naukri Job's\n",
        "\t/linkedin - To get the LinkedIn Job's\n",
        "\t/Glassdoor - Glassdoor Job's\n",
        "\tNote* : Currently only linkedin is working To get the GeeksforGeeks URL\"\"\")\n",
        "\n",
        "\n",
        "def linkedin(update: Update, context: CallbackContext):\n",
        "\tfor list in lists:\n",
        "\t\ttitle = list.find('h3', class_=\"base-search-card__title\").text.replace('\\n','')\n",
        "\t\tcomp = list.find('a', class_=\"hidden-nested-link\").text.replace('\\n','')\n",
        "\t\tlocation = list.find('span', class_=\"job-search-card__location\").text.replace('\\n','')\n",
        "\t\turls = list.find('a', class_=\"base-card__full-link\").attrs['href']\n",
        "\t\tinfo = [title, comp, location, urls]\n",
        "\t\tupdate.message.reply_text(info[0]+'\\n'+info[1]+'\\n'+info[2] +'\\n'+ info[3])\n",
        "\t# \tprint(i)\n",
        "\n",
        "def unknown(update: Update, context: CallbackContext):\n",
        "\tupdate.message.reply_text(\n",
        "\t\t\"Sorry '%s' is not a valid command\" % update.message.text)\n",
        "\n",
        "\n",
        "def unknown_text(update: Update, context: CallbackContext):\n",
        "\tupdate.message.reply_text(\n",
        "\t\t\"Sorry I can't recognize you , you said '%s'\" % update.message.text)\n",
        "\n",
        "\n",
        "updater.dispatcher.add_handler(CommandHandler('start', start))\n",
        "updater.dispatcher.add_handler(CommandHandler('help', help))\n",
        "updater.dispatcher.add_handler(CommandHandler('linkedin', linkedin))\n",
        "updater.dispatcher.add_handler(MessageHandler(Filters.text, unknown))\n",
        "updater.dispatcher.add_handler(MessageHandler(\n",
        "\tFilters.command, unknown)) # Filters out unknown commands\n",
        "\n",
        "# Filters out unknown messages.\n",
        "updater.dispatcher.add_handler(MessageHandler(Filters.text, unknown_text))\n",
        "\n",
        "updater.start_polling()\n"
      ],
      "metadata": {
        "id": "hTV-bkIZQcfG",
        "colab": {
          "base_uri": "https://localhost:8080/",
          "height": 373
        },
        "outputId": "4a0a852e-fd4e-470f-c7ef-4506a8129b0a"
      },
      "execution_count": 1,
      "outputs": [
        {
          "output_type": "error",
          "ename": "ModuleNotFoundError",
          "evalue": "ignored",
          "traceback": [
            "\u001b[0;31m---------------------------------------------------------------------------\u001b[0m",
            "\u001b[0;31mModuleNotFoundError\u001b[0m                       Traceback (most recent call last)",
            "\u001b[0;32m<ipython-input-1-f1078dab869a>\u001b[0m in \u001b[0;36m<module>\u001b[0;34m()\u001b[0m\n\u001b[0;32m----> 1\u001b[0;31m \u001b[0;32mfrom\u001b[0m \u001b[0mtelegram\u001b[0m\u001b[0;34m.\u001b[0m\u001b[0mext\u001b[0m\u001b[0;34m.\u001b[0m\u001b[0mupdater\u001b[0m \u001b[0;32mimport\u001b[0m \u001b[0mUpdater\u001b[0m\u001b[0;34m\u001b[0m\u001b[0;34m\u001b[0m\u001b[0m\n\u001b[0m\u001b[1;32m      2\u001b[0m \u001b[0;32mfrom\u001b[0m \u001b[0mtelegram\u001b[0m\u001b[0;34m.\u001b[0m\u001b[0mupdate\u001b[0m \u001b[0;32mimport\u001b[0m \u001b[0mUpdate\u001b[0m\u001b[0;34m\u001b[0m\u001b[0;34m\u001b[0m\u001b[0m\n\u001b[1;32m      3\u001b[0m \u001b[0;32mfrom\u001b[0m \u001b[0mtelegram\u001b[0m\u001b[0;34m.\u001b[0m\u001b[0mext\u001b[0m\u001b[0;34m.\u001b[0m\u001b[0mcallbackcontext\u001b[0m \u001b[0;32mimport\u001b[0m \u001b[0mCallbackContext\u001b[0m\u001b[0;34m\u001b[0m\u001b[0;34m\u001b[0m\u001b[0m\n\u001b[1;32m      4\u001b[0m \u001b[0;32mfrom\u001b[0m \u001b[0mtelegram\u001b[0m\u001b[0;34m.\u001b[0m\u001b[0mext\u001b[0m\u001b[0;34m.\u001b[0m\u001b[0mcommandhandler\u001b[0m \u001b[0;32mimport\u001b[0m \u001b[0mCommandHandler\u001b[0m\u001b[0;34m\u001b[0m\u001b[0;34m\u001b[0m\u001b[0m\n\u001b[1;32m      5\u001b[0m \u001b[0;32mfrom\u001b[0m \u001b[0mtelegram\u001b[0m\u001b[0;34m.\u001b[0m\u001b[0mext\u001b[0m\u001b[0;34m.\u001b[0m\u001b[0mmessagehandler\u001b[0m \u001b[0;32mimport\u001b[0m \u001b[0mMessageHandler\u001b[0m\u001b[0;34m\u001b[0m\u001b[0;34m\u001b[0m\u001b[0m\n",
            "\u001b[0;31mModuleNotFoundError\u001b[0m: No module named 'telegram'",
            "",
            "\u001b[0;31m---------------------------------------------------------------------------\u001b[0;32m\nNOTE: If your import is failing due to a missing package, you can\nmanually install dependencies using either !pip or !apt.\n\nTo view examples of installing some common dependencies, click the\n\"Open Examples\" button below.\n\u001b[0;31m---------------------------------------------------------------------------\u001b[0m\n"
          ],
          "errorDetails": {
            "actions": [
              {
                "action": "open_url",
                "actionText": "Open Examples",
                "url": "/notebooks/snippets/importing_libraries.ipynb"
              }
            ]
          }
        }
      ]
    }
  ]
}